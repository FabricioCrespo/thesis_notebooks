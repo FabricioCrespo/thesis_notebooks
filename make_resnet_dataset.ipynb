{
  "nbformat": 4,
  "nbformat_minor": 0,
  "metadata": {
    "colab": {
      "name": "make_resnet_dataset.ipynb",
      "provenance": []
    },
    "kernelspec": {
      "name": "python3",
      "display_name": "Python 3"
    },
    "language_info": {
      "name": "python"
    }
  },
  "cells": [
    {
      "cell_type": "markdown",
      "metadata": {
        "id": "Aguo2qtrmetw"
      },
      "source": [
        "## Import some libraries"
      ]
    },
    {
      "cell_type": "code",
      "metadata": {
        "id": "IOQtN7EtlEkO"
      },
      "source": [
        "import os\n",
        "import shutil\n",
        "import random"
      ],
      "execution_count": null,
      "outputs": []
    },
    {
      "cell_type": "markdown",
      "metadata": {
        "id": "HJLk_2cPm45l"
      },
      "source": [
        "## Some variables"
      ]
    },
    {
      "cell_type": "code",
      "metadata": {
        "id": "14SGN6p9m1O9"
      },
      "source": [
        "train=0.80\n",
        "val=0.20"
      ],
      "execution_count": null,
      "outputs": []
    },
    {
      "cell_type": "markdown",
      "metadata": {
        "id": "3FmzDYjimvFm"
      },
      "source": [
        "## Train Compliant"
      ]
    },
    {
      "cell_type": "code",
      "metadata": {
        "colab": {
          "base_uri": "https://localhost:8080/"
        },
        "id": "U-CAHRgMlqWI",
        "outputId": "100101b5-af45-4e9a-9d50-fd5e49845275"
      },
      "source": [
        "pathTrainCompliant=\"/content/drive/MyDrive/TESIS/Datasets/FMLD_dataset/definitivo/train/Compliant/\"\n",
        "\n",
        "images_list=os.listdir(pathTrainCompliant)\n",
        "random.shuffle(images_list)\n",
        "\n",
        "size=len(images_list)\n",
        "\n",
        "compliant_size=int(train*size)\n",
        "\n",
        "images_compliant_train=images_list[:compliant_size]\n",
        "images_compliant_val=images_list[compliant_size:]\n",
        "\n",
        "\n",
        "print(len(images_compliant_train))\n",
        "print(len(images_compliant_val))\n",
        "\n",
        "dest_train=\"/content/drive/MyDrive/TESIS/Datasets/FMLD_dataset/para_entrenar/train/Compliant/\"\n",
        "dest_val=\"/content/drive/MyDrive/TESIS/Datasets/FMLD_dataset/para_entrenar/val/Compliant/\"\n",
        "\n",
        "\n",
        "for elem in images_compliant_train:\n",
        "  source=pathTrainCompliant+elem\n",
        "  shutil.copy2(source, dest_train)\n",
        "\n",
        "for elem in images_compliant_val:\n",
        "  source=pathTrainCompliant+elem\n",
        "  shutil.copy2(source, dest_val)\n"
      ],
      "execution_count": null,
      "outputs": [
        {
          "output_type": "stream",
          "text": [
            "7028\n",
            "1757\n"
          ],
          "name": "stdout"
        }
      ]
    },
    {
      "cell_type": "markdown",
      "metadata": {
        "id": "TM4PTTYDqfLM"
      },
      "source": [
        "## Train Non-compliant"
      ]
    },
    {
      "cell_type": "code",
      "metadata": {
        "colab": {
          "base_uri": "https://localhost:8080/"
        },
        "id": "eLban6a4qe4X",
        "outputId": "dc81fee8-70da-4f10-f21a-4212267c6505"
      },
      "source": [
        "pathTrainNonCompliant=\"/content/drive/MyDrive/TESIS/Datasets/FMLD_dataset/definitivo/train/Non-compliant/\"\n",
        "\n",
        "images_list=os.listdir(pathTrainNonCompliant)\n",
        "random.shuffle(images_list)\n",
        "\n",
        "size=len(images_list)\n",
        "\n",
        "non_compliant_size=int(train*size)\n",
        "\n",
        "images_non_compliant_train=images_list[:non_compliant_size]\n",
        "images_non_compliant_val=images_list[non_compliant_size:]\n",
        "\n",
        "\n",
        "print(len(images_non_compliant_train))\n",
        "print(len(images_non_compliant_val))\n",
        "\n",
        "dest_train=\"/content/drive/MyDrive/TESIS/Datasets/FMLD_dataset/para_entrenar/train/Non-compliant/\"\n",
        "dest_val=\"/content/drive/MyDrive/TESIS/Datasets/FMLD_dataset/para_entrenar/val/Non-compliant/\"\n",
        "\n",
        "\n",
        "for elem in images_non_compliant_train:\n",
        "  source=pathTrainNonCompliant+elem\n",
        "  shutil.copy2(source, dest_train)\n",
        "\n",
        "for elem in images_non_compliant_val:\n",
        "  source=pathTrainNonCompliant+elem\n",
        "  shutil.copy2(source, dest_val)"
      ],
      "execution_count": null,
      "outputs": [
        {
          "output_type": "stream",
          "text": [
            "17525\n",
            "4382\n"
          ],
          "name": "stdout"
        }
      ]
    }
  ]
}